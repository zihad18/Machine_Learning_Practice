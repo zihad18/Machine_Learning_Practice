{
 "cells": [
  {
   "cell_type": "code",
   "execution_count": 38,
   "id": "5568da94",
   "metadata": {},
   "outputs": [],
   "source": [
    "import tensorflow as tf\n",
    "import tensorflow.keras as keras\n",
    "from tensorflow.keras.datasets.mnist import load_data\n",
    "import numpy as np\n",
    "import sklearn as sk\n",
    "import matplotlib.pyplot as plt\n",
    "import pandas as pd\n",
    "import seaborn as sns\n",
    "from tensorflow.keras.utils import plot_model\n"
   ]
  },
  {
   "cell_type": "code",
   "execution_count": 39,
   "id": "fb94c37d",
   "metadata": {},
   "outputs": [],
   "source": [
    "(x_train, y_train), (x_test, y_test) = load_data()"
   ]
  },
  {
   "cell_type": "code",
   "execution_count": 40,
   "id": "2ccf6603",
   "metadata": {},
   "outputs": [
    {
     "data": {
      "text/plain": [
       "(60000, 28, 28)"
      ]
     },
     "execution_count": 40,
     "metadata": {},
     "output_type": "execute_result"
    }
   ],
   "source": [
    "x_train.shape"
   ]
  },
  {
   "cell_type": "code",
   "execution_count": 41,
   "id": "99950014",
   "metadata": {},
   "outputs": [
    {
     "data": {
      "text/plain": [
       "(60000,)"
      ]
     },
     "execution_count": 41,
     "metadata": {},
     "output_type": "execute_result"
    }
   ],
   "source": [
    "y_train.shape"
   ]
  },
  {
   "cell_type": "code",
   "execution_count": 42,
   "id": "1ca5bf4c",
   "metadata": {},
   "outputs": [
    {
     "data": {
      "text/plain": [
       "(10000, 28, 28)"
      ]
     },
     "execution_count": 42,
     "metadata": {},
     "output_type": "execute_result"
    }
   ],
   "source": [
    "x_test.shape"
   ]
  },
  {
   "cell_type": "code",
   "execution_count": 43,
   "id": "39aa00f8",
   "metadata": {},
   "outputs": [
    {
     "data": {
      "text/plain": [
       "(10000,)"
      ]
     },
     "execution_count": 43,
     "metadata": {},
     "output_type": "execute_result"
    }
   ],
   "source": [
    "y_test.shape"
   ]
  },
  {
   "cell_type": "code",
   "execution_count": 44,
   "id": "5239c268",
   "metadata": {},
   "outputs": [
    {
     "data": {
      "text/plain": [
       "dtype('uint8')"
      ]
     },
     "execution_count": 44,
     "metadata": {},
     "output_type": "execute_result"
    }
   ],
   "source": [
    "x_train.dtype"
   ]
  },
  {
   "cell_type": "code",
   "execution_count": 45,
   "id": "f27f6502",
   "metadata": {},
   "outputs": [
    {
     "name": "stdout",
     "output_type": "stream",
     "text": [
      "(5000, 28, 28)\n",
      "(55000, 28, 28)\n"
     ]
    }
   ],
   "source": [
    "print(x_train[:5000].shape)\n",
    "print(x_train[5000:].shape)"
   ]
  },
  {
   "cell_type": "code",
   "execution_count": 47,
   "id": "f82e45a9",
   "metadata": {},
   "outputs": [
    {
     "data": {
      "text/plain": [
       "array([[0.00000000e+00, 0.00000000e+00, 0.00000000e+00, 0.00000000e+00,\n",
       "        0.00000000e+00, 0.00000000e+00, 0.00000000e+00, 0.00000000e+00,\n",
       "        0.00000000e+00, 0.00000000e+00, 0.00000000e+00, 0.00000000e+00,\n",
       "        0.00000000e+00, 0.00000000e+00, 0.00000000e+00, 0.00000000e+00,\n",
       "        0.00000000e+00, 0.00000000e+00, 0.00000000e+00, 0.00000000e+00,\n",
       "        0.00000000e+00, 0.00000000e+00, 0.00000000e+00, 0.00000000e+00,\n",
       "        0.00000000e+00, 0.00000000e+00, 0.00000000e+00, 0.00000000e+00],\n",
       "       [0.00000000e+00, 0.00000000e+00, 0.00000000e+00, 0.00000000e+00,\n",
       "        0.00000000e+00, 0.00000000e+00, 0.00000000e+00, 0.00000000e+00,\n",
       "        0.00000000e+00, 0.00000000e+00, 0.00000000e+00, 0.00000000e+00,\n",
       "        0.00000000e+00, 0.00000000e+00, 0.00000000e+00, 0.00000000e+00,\n",
       "        0.00000000e+00, 0.00000000e+00, 0.00000000e+00, 0.00000000e+00,\n",
       "        0.00000000e+00, 0.00000000e+00, 0.00000000e+00, 0.00000000e+00,\n",
       "        0.00000000e+00, 0.00000000e+00, 0.00000000e+00, 0.00000000e+00],\n",
       "       [0.00000000e+00, 0.00000000e+00, 0.00000000e+00, 0.00000000e+00,\n",
       "        0.00000000e+00, 0.00000000e+00, 0.00000000e+00, 0.00000000e+00,\n",
       "        0.00000000e+00, 0.00000000e+00, 0.00000000e+00, 0.00000000e+00,\n",
       "        0.00000000e+00, 0.00000000e+00, 0.00000000e+00, 0.00000000e+00,\n",
       "        0.00000000e+00, 0.00000000e+00, 0.00000000e+00, 0.00000000e+00,\n",
       "        0.00000000e+00, 0.00000000e+00, 0.00000000e+00, 0.00000000e+00,\n",
       "        0.00000000e+00, 0.00000000e+00, 0.00000000e+00, 0.00000000e+00],\n",
       "       [0.00000000e+00, 0.00000000e+00, 0.00000000e+00, 0.00000000e+00,\n",
       "        0.00000000e+00, 0.00000000e+00, 0.00000000e+00, 0.00000000e+00,\n",
       "        0.00000000e+00, 0.00000000e+00, 0.00000000e+00, 0.00000000e+00,\n",
       "        0.00000000e+00, 0.00000000e+00, 0.00000000e+00, 0.00000000e+00,\n",
       "        0.00000000e+00, 0.00000000e+00, 0.00000000e+00, 0.00000000e+00,\n",
       "        0.00000000e+00, 0.00000000e+00, 0.00000000e+00, 0.00000000e+00,\n",
       "        0.00000000e+00, 0.00000000e+00, 0.00000000e+00, 0.00000000e+00],\n",
       "       [0.00000000e+00, 0.00000000e+00, 0.00000000e+00, 0.00000000e+00,\n",
       "        0.00000000e+00, 0.00000000e+00, 0.00000000e+00, 0.00000000e+00,\n",
       "        0.00000000e+00, 0.00000000e+00, 0.00000000e+00, 0.00000000e+00,\n",
       "        0.00000000e+00, 0.00000000e+00, 0.00000000e+00, 0.00000000e+00,\n",
       "        0.00000000e+00, 0.00000000e+00, 0.00000000e+00, 0.00000000e+00,\n",
       "        0.00000000e+00, 0.00000000e+00, 0.00000000e+00, 0.00000000e+00,\n",
       "        0.00000000e+00, 0.00000000e+00, 0.00000000e+00, 0.00000000e+00],\n",
       "       [0.00000000e+00, 0.00000000e+00, 0.00000000e+00, 0.00000000e+00,\n",
       "        0.00000000e+00, 0.00000000e+00, 0.00000000e+00, 0.00000000e+00,\n",
       "        0.00000000e+00, 4.45982314e-04, 2.30680507e-03, 2.99884660e-03,\n",
       "        3.90618993e-03, 3.92156863e-03, 3.90618993e-03, 2.70665129e-03,\n",
       "        2.96808920e-03, 2.30680507e-03, 1.47635525e-03, 0.00000000e+00,\n",
       "        0.00000000e+00, 0.00000000e+00, 0.00000000e+00, 0.00000000e+00,\n",
       "        0.00000000e+00, 0.00000000e+00, 0.00000000e+00, 0.00000000e+00],\n",
       "       [0.00000000e+00, 0.00000000e+00, 0.00000000e+00, 0.00000000e+00,\n",
       "        0.00000000e+00, 0.00000000e+00, 0.00000000e+00, 7.38177624e-04,\n",
       "        2.55286428e-03, 3.44482891e-03, 3.89081123e-03, 3.89081123e-03,\n",
       "        3.59861592e-03, 3.01422530e-03, 3.89081123e-03, 3.89081123e-03,\n",
       "        3.89081123e-03, 3.89081123e-03, 3.58323722e-03, 0.00000000e+00,\n",
       "        0.00000000e+00, 0.00000000e+00, 0.00000000e+00, 0.00000000e+00,\n",
       "        0.00000000e+00, 0.00000000e+00, 0.00000000e+00, 0.00000000e+00],\n",
       "       [0.00000000e+00, 0.00000000e+00, 0.00000000e+00, 0.00000000e+00,\n",
       "        0.00000000e+00, 1.43021915e-03, 3.75240292e-03, 3.82929642e-03,\n",
       "        3.89081123e-03, 2.87581699e-03, 7.07420223e-04, 1.53787005e-04,\n",
       "        1.23029604e-04, 6.15148020e-05, 1.53787005e-04, 2.98346790e-03,\n",
       "        3.89081123e-03, 3.89081123e-03, 3.58323722e-03, 0.00000000e+00,\n",
       "        0.00000000e+00, 0.00000000e+00, 0.00000000e+00, 0.00000000e+00,\n",
       "        0.00000000e+00, 0.00000000e+00, 0.00000000e+00, 0.00000000e+00],\n",
       "       [0.00000000e+00, 0.00000000e+00, 0.00000000e+00, 0.00000000e+00,\n",
       "        0.00000000e+00, 1.64552095e-03, 3.89081123e-03, 3.89081123e-03,\n",
       "        3.53710111e-03, 7.38177624e-04, 0.00000000e+00, 0.00000000e+00,\n",
       "        0.00000000e+00, 0.00000000e+00, 0.00000000e+00, 2.95271050e-03,\n",
       "        3.89081123e-03, 3.89081123e-03, 2.39907728e-03, 0.00000000e+00,\n",
       "        0.00000000e+00, 0.00000000e+00, 0.00000000e+00, 0.00000000e+00,\n",
       "        0.00000000e+00, 0.00000000e+00, 0.00000000e+00, 0.00000000e+00],\n",
       "       [0.00000000e+00, 0.00000000e+00, 0.00000000e+00, 0.00000000e+00,\n",
       "        0.00000000e+00, 4.61361015e-05, 3.07574010e-04, 3.07574010e-04,\n",
       "        2.30680507e-04, 0.00000000e+00, 0.00000000e+00, 0.00000000e+00,\n",
       "        0.00000000e+00, 0.00000000e+00, 6.61284121e-04, 3.44482891e-03,\n",
       "        3.89081123e-03, 3.76778162e-03, 1.13802384e-03, 0.00000000e+00,\n",
       "        0.00000000e+00, 0.00000000e+00, 0.00000000e+00, 0.00000000e+00,\n",
       "        0.00000000e+00, 0.00000000e+00, 0.00000000e+00, 0.00000000e+00],\n",
       "       [0.00000000e+00, 0.00000000e+00, 0.00000000e+00, 0.00000000e+00,\n",
       "        0.00000000e+00, 0.00000000e+00, 0.00000000e+00, 0.00000000e+00,\n",
       "        0.00000000e+00, 0.00000000e+00, 0.00000000e+00, 0.00000000e+00,\n",
       "        0.00000000e+00, 0.00000000e+00, 3.82929642e-03, 3.89081123e-03,\n",
       "        3.76778162e-03, 1.93771626e-03, 0.00000000e+00, 0.00000000e+00,\n",
       "        0.00000000e+00, 0.00000000e+00, 0.00000000e+00, 0.00000000e+00,\n",
       "        0.00000000e+00, 0.00000000e+00, 0.00000000e+00, 0.00000000e+00],\n",
       "       [0.00000000e+00, 0.00000000e+00, 0.00000000e+00, 0.00000000e+00,\n",
       "        0.00000000e+00, 0.00000000e+00, 0.00000000e+00, 0.00000000e+00,\n",
       "        0.00000000e+00, 0.00000000e+00, 0.00000000e+00, 2.15301807e-04,\n",
       "        1.55324875e-03, 3.42945021e-03, 3.89081123e-03, 3.81391772e-03,\n",
       "        1.90695886e-03, 0.00000000e+00, 0.00000000e+00, 0.00000000e+00,\n",
       "        0.00000000e+00, 0.00000000e+00, 0.00000000e+00, 0.00000000e+00,\n",
       "        0.00000000e+00, 0.00000000e+00, 0.00000000e+00, 0.00000000e+00],\n",
       "       [0.00000000e+00, 0.00000000e+00, 0.00000000e+00, 0.00000000e+00,\n",
       "        0.00000000e+00, 0.00000000e+00, 0.00000000e+00, 0.00000000e+00,\n",
       "        0.00000000e+00, 1.69165705e-04, 2.55286428e-03, 3.67550942e-03,\n",
       "        3.89081123e-03, 3.89081123e-03, 3.89081123e-03, 2.87581699e-03,\n",
       "        4.61361015e-04, 0.00000000e+00, 0.00000000e+00, 0.00000000e+00,\n",
       "        0.00000000e+00, 0.00000000e+00, 0.00000000e+00, 0.00000000e+00,\n",
       "        0.00000000e+00, 0.00000000e+00, 0.00000000e+00, 0.00000000e+00],\n",
       "       [0.00000000e+00, 0.00000000e+00, 0.00000000e+00, 0.00000000e+00,\n",
       "        0.00000000e+00, 0.00000000e+00, 0.00000000e+00, 0.00000000e+00,\n",
       "        0.00000000e+00, 2.46059208e-04, 3.81391772e-03, 3.84467512e-03,\n",
       "        3.89081123e-03, 3.89081123e-03, 3.89081123e-03, 3.89081123e-03,\n",
       "        3.56785852e-03, 3.27566321e-03, 1.70703576e-03, 3.07574010e-05,\n",
       "        0.00000000e+00, 0.00000000e+00, 0.00000000e+00, 0.00000000e+00,\n",
       "        0.00000000e+00, 0.00000000e+00, 0.00000000e+00, 0.00000000e+00],\n",
       "       [0.00000000e+00, 0.00000000e+00, 0.00000000e+00, 0.00000000e+00,\n",
       "        0.00000000e+00, 0.00000000e+00, 0.00000000e+00, 0.00000000e+00,\n",
       "        0.00000000e+00, 0.00000000e+00, 0.00000000e+00, 6.61284121e-04,\n",
       "        1.50711265e-03, 1.50711265e-03, 3.19876970e-03, 3.89081123e-03,\n",
       "        3.89081123e-03, 3.89081123e-03, 3.89081123e-03, 2.87581699e-03,\n",
       "        3.38331411e-04, 0.00000000e+00, 0.00000000e+00, 0.00000000e+00,\n",
       "        0.00000000e+00, 0.00000000e+00, 0.00000000e+00, 0.00000000e+00],\n",
       "       [0.00000000e+00, 0.00000000e+00, 0.00000000e+00, 0.00000000e+00,\n",
       "        0.00000000e+00, 0.00000000e+00, 0.00000000e+00, 0.00000000e+00,\n",
       "        0.00000000e+00, 0.00000000e+00, 0.00000000e+00, 0.00000000e+00,\n",
       "        0.00000000e+00, 0.00000000e+00, 1.38408304e-04, 7.84313725e-04,\n",
       "        1.83006536e-03, 3.89081123e-03, 3.89081123e-03, 3.89081123e-03,\n",
       "        1.16878124e-03, 0.00000000e+00, 0.00000000e+00, 0.00000000e+00,\n",
       "        0.00000000e+00, 0.00000000e+00, 0.00000000e+00, 0.00000000e+00],\n",
       "       [0.00000000e+00, 0.00000000e+00, 0.00000000e+00, 0.00000000e+00,\n",
       "        0.00000000e+00, 0.00000000e+00, 0.00000000e+00, 0.00000000e+00,\n",
       "        0.00000000e+00, 0.00000000e+00, 0.00000000e+00, 0.00000000e+00,\n",
       "        0.00000000e+00, 0.00000000e+00, 0.00000000e+00, 0.00000000e+00,\n",
       "        1.53787005e-05, 2.81430219e-03, 3.89081123e-03, 3.89081123e-03,\n",
       "        2.13763937e-03, 0.00000000e+00, 0.00000000e+00, 0.00000000e+00,\n",
       "        0.00000000e+00, 0.00000000e+00, 0.00000000e+00, 0.00000000e+00],\n",
       "       [0.00000000e+00, 0.00000000e+00, 0.00000000e+00, 0.00000000e+00,\n",
       "        0.00000000e+00, 0.00000000e+00, 0.00000000e+00, 0.00000000e+00,\n",
       "        0.00000000e+00, 0.00000000e+00, 0.00000000e+00, 0.00000000e+00,\n",
       "        0.00000000e+00, 0.00000000e+00, 0.00000000e+00, 0.00000000e+00,\n",
       "        0.00000000e+00, 2.79892349e-03, 3.89081123e-03, 3.89081123e-03,\n",
       "        1.59938485e-03, 0.00000000e+00, 0.00000000e+00, 0.00000000e+00,\n",
       "        0.00000000e+00, 0.00000000e+00, 0.00000000e+00, 0.00000000e+00],\n",
       "       [0.00000000e+00, 0.00000000e+00, 0.00000000e+00, 0.00000000e+00,\n",
       "        0.00000000e+00, 0.00000000e+00, 0.00000000e+00, 0.00000000e+00,\n",
       "        0.00000000e+00, 0.00000000e+00, 0.00000000e+00, 0.00000000e+00,\n",
       "        0.00000000e+00, 0.00000000e+00, 0.00000000e+00, 0.00000000e+00,\n",
       "        1.30718954e-03, 3.82929642e-03, 3.89081123e-03, 3.89081123e-03,\n",
       "        5.53633218e-04, 0.00000000e+00, 0.00000000e+00, 0.00000000e+00,\n",
       "        0.00000000e+00, 0.00000000e+00, 0.00000000e+00, 0.00000000e+00],\n",
       "       [0.00000000e+00, 0.00000000e+00, 0.00000000e+00, 0.00000000e+00,\n",
       "        0.00000000e+00, 0.00000000e+00, 0.00000000e+00, 0.00000000e+00,\n",
       "        0.00000000e+00, 0.00000000e+00, 0.00000000e+00, 0.00000000e+00,\n",
       "        0.00000000e+00, 0.00000000e+00, 0.00000000e+00, 9.22722030e-04,\n",
       "        3.29104191e-03, 3.89081123e-03, 3.89081123e-03, 2.66051519e-03,\n",
       "        1.69165705e-04, 0.00000000e+00, 0.00000000e+00, 0.00000000e+00,\n",
       "        0.00000000e+00, 0.00000000e+00, 0.00000000e+00, 0.00000000e+00],\n",
       "       [0.00000000e+00, 0.00000000e+00, 0.00000000e+00, 0.00000000e+00,\n",
       "        0.00000000e+00, 0.00000000e+00, 0.00000000e+00, 0.00000000e+00,\n",
       "        0.00000000e+00, 0.00000000e+00, 0.00000000e+00, 0.00000000e+00,\n",
       "        0.00000000e+00, 0.00000000e+00, 1.50711265e-03, 3.79853902e-03,\n",
       "        3.89081123e-03, 3.89081123e-03, 3.47558631e-03, 1.38408304e-04,\n",
       "        0.00000000e+00, 0.00000000e+00, 0.00000000e+00, 0.00000000e+00,\n",
       "        0.00000000e+00, 0.00000000e+00, 0.00000000e+00, 0.00000000e+00],\n",
       "       [0.00000000e+00, 0.00000000e+00, 0.00000000e+00, 0.00000000e+00,\n",
       "        0.00000000e+00, 0.00000000e+00, 0.00000000e+00, 0.00000000e+00,\n",
       "        0.00000000e+00, 0.00000000e+00, 0.00000000e+00, 0.00000000e+00,\n",
       "        6.45905421e-04, 2.30680507e-03, 3.87543253e-03, 3.89081123e-03,\n",
       "        3.89081123e-03, 3.58323722e-03, 8.15071126e-04, 0.00000000e+00,\n",
       "        0.00000000e+00, 0.00000000e+00, 0.00000000e+00, 0.00000000e+00,\n",
       "        0.00000000e+00, 0.00000000e+00, 0.00000000e+00, 0.00000000e+00],\n",
       "       [0.00000000e+00, 0.00000000e+00, 0.00000000e+00, 0.00000000e+00,\n",
       "        0.00000000e+00, 0.00000000e+00, 6.45905421e-04, 1.76855056e-03,\n",
       "        6.45905421e-04, 9.22722030e-04, 1.76855056e-03, 2.44521338e-03,\n",
       "        3.69088812e-03, 3.89081123e-03, 3.89081123e-03, 3.84467512e-03,\n",
       "        2.69127259e-03, 3.84467512e-04, 0.00000000e+00, 0.00000000e+00,\n",
       "        0.00000000e+00, 0.00000000e+00, 0.00000000e+00, 0.00000000e+00,\n",
       "        0.00000000e+00, 0.00000000e+00, 0.00000000e+00, 0.00000000e+00],\n",
       "       [0.00000000e+00, 0.00000000e+00, 0.00000000e+00, 0.00000000e+00,\n",
       "        0.00000000e+00, 0.00000000e+00, 2.87581699e-03, 3.89081123e-03,\n",
       "        3.89081123e-03, 3.89081123e-03, 3.89081123e-03, 3.89081123e-03,\n",
       "        3.89081123e-03, 3.89081123e-03, 3.02960400e-03, 1.32256824e-03,\n",
       "        0.00000000e+00, 0.00000000e+00, 0.00000000e+00, 0.00000000e+00,\n",
       "        0.00000000e+00, 0.00000000e+00, 0.00000000e+00, 0.00000000e+00,\n",
       "        0.00000000e+00, 0.00000000e+00, 0.00000000e+00, 0.00000000e+00],\n",
       "       [0.00000000e+00, 0.00000000e+00, 0.00000000e+00, 0.00000000e+00,\n",
       "        0.00000000e+00, 0.00000000e+00, 1.58400615e-03, 3.89081123e-03,\n",
       "        3.89081123e-03, 3.89081123e-03, 3.89081123e-03, 3.89081123e-03,\n",
       "        3.56785852e-03, 1.03037293e-03, 1.53787005e-05, 0.00000000e+00,\n",
       "        0.00000000e+00, 0.00000000e+00, 0.00000000e+00, 0.00000000e+00,\n",
       "        0.00000000e+00, 0.00000000e+00, 0.00000000e+00, 0.00000000e+00,\n",
       "        0.00000000e+00, 0.00000000e+00, 0.00000000e+00, 0.00000000e+00],\n",
       "       [0.00000000e+00, 0.00000000e+00, 0.00000000e+00, 0.00000000e+00,\n",
       "        0.00000000e+00, 0.00000000e+00, 0.00000000e+00, 0.00000000e+00,\n",
       "        0.00000000e+00, 0.00000000e+00, 0.00000000e+00, 0.00000000e+00,\n",
       "        0.00000000e+00, 0.00000000e+00, 0.00000000e+00, 0.00000000e+00,\n",
       "        0.00000000e+00, 0.00000000e+00, 0.00000000e+00, 0.00000000e+00,\n",
       "        0.00000000e+00, 0.00000000e+00, 0.00000000e+00, 0.00000000e+00,\n",
       "        0.00000000e+00, 0.00000000e+00, 0.00000000e+00, 0.00000000e+00],\n",
       "       [0.00000000e+00, 0.00000000e+00, 0.00000000e+00, 0.00000000e+00,\n",
       "        0.00000000e+00, 0.00000000e+00, 0.00000000e+00, 0.00000000e+00,\n",
       "        0.00000000e+00, 0.00000000e+00, 0.00000000e+00, 0.00000000e+00,\n",
       "        0.00000000e+00, 0.00000000e+00, 0.00000000e+00, 0.00000000e+00,\n",
       "        0.00000000e+00, 0.00000000e+00, 0.00000000e+00, 0.00000000e+00,\n",
       "        0.00000000e+00, 0.00000000e+00, 0.00000000e+00, 0.00000000e+00,\n",
       "        0.00000000e+00, 0.00000000e+00, 0.00000000e+00, 0.00000000e+00],\n",
       "       [0.00000000e+00, 0.00000000e+00, 0.00000000e+00, 0.00000000e+00,\n",
       "        0.00000000e+00, 0.00000000e+00, 0.00000000e+00, 0.00000000e+00,\n",
       "        0.00000000e+00, 0.00000000e+00, 0.00000000e+00, 0.00000000e+00,\n",
       "        0.00000000e+00, 0.00000000e+00, 0.00000000e+00, 0.00000000e+00,\n",
       "        0.00000000e+00, 0.00000000e+00, 0.00000000e+00, 0.00000000e+00,\n",
       "        0.00000000e+00, 0.00000000e+00, 0.00000000e+00, 0.00000000e+00,\n",
       "        0.00000000e+00, 0.00000000e+00, 0.00000000e+00, 0.00000000e+00]])"
      ]
     },
     "execution_count": 47,
     "metadata": {},
     "output_type": "execute_result"
    }
   ],
   "source": [
    "x_valid, x_train = x_train[:5000] / 255., x_train[5000:] / 255.\n",
    "y_valid, y_train = y_train[:5000], y_train[5000:]\n",
    "x_test = x_test / 255.\n",
    "x_train[0]"
   ]
  },
  {
   "cell_type": "code",
   "execution_count": 48,
   "id": "ee22cd29",
   "metadata": {},
   "outputs": [
    {
     "data": {
      "image/png": "[encoded data removed]",
      "text/plain": [
       "<Figure size 640x480 with 1 Axes>"
      ]
     },
     "metadata": {},
     "output_type": "display_data"
    },
    {
     "name": "stdout",
     "output_type": "stream",
     "text": [
      "0\n"
     ]
    }
   ],
   "source": [
    "plt.imshow(x_train[5]/255, cmap=\"binary\")\n",
    "plt.axis('off')\n",
    "plt.show()\n",
    "print(y_train[5])"
   ]
  },
  {
   "cell_type": "code",
   "execution_count": 49,
   "id": "4ab56e0a",
   "metadata": {},
   "outputs": [
    {
     "data": {
      "text/plain": [
       "array([3, 8, 7, ..., 5, 6, 8], dtype=uint8)"
      ]
     },
     "execution_count": 49,
     "metadata": {},
     "output_type": "execute_result"
    }
   ],
   "source": [
    "y_train"
   ]
  },
  {
   "cell_type": "code",
   "execution_count": 50,
   "id": "5b86c31a",
   "metadata": {},
   "outputs": [],
   "source": [
    "class_names = [\"zero\", \"one\", \"two\", \"three\", \"four\",\n",
    "               \"five\", \"six\", \"seven\", \"eight\", \"nine\"]"
   ]
  },
  {
   "cell_type": "code",
   "execution_count": 51,
   "id": "220e0696",
   "metadata": {},
   "outputs": [
    {
     "data": {
      "image/png": "[encoded data removed]",
      "text/plain": [
       "<Figure size 1200x480 with 40 Axes>"
      ]
     },
     "metadata": {},
     "output_type": "display_data"
    }
   ],
   "source": [
    "n_rows = 4\n",
    "n_cols = 10\n",
    "plt.figure(figsize=(n_cols * 1.2, n_rows * 1.2))\n",
    "for row in range(n_rows):\n",
    "    for col in range(n_cols):\n",
    "        index = n_cols * row + col\n",
    "        plt.subplot(n_rows, n_cols, index + 1)\n",
    "        plt.imshow(x_train[index], cmap=\"binary\", interpolation=\"nearest\")\n",
    "        plt.axis('off')\n",
    "        plt.title(class_names[y_train[index]], fontsize=12)\n",
    "plt.subplots_adjust(wspace=0.2, hspace=0.5)\n",
    "#save_fig('mnist_plot', tight_layout=False)\n",
    "plt.show()"
   ]
  },
  {
   "cell_type": "code",
   "execution_count": 52,
   "id": "6dae5408",
   "metadata": {},
   "outputs": [],
   "source": [
    "model = keras.models.Sequential()\n",
    "model.add(keras.layers.Flatten(input_shape=[28, 28]))\n",
    "model.add(keras.layers.Dense(300, activation=\"relu\"))\n",
    "model.add(keras.layers.Dense(100, activation=\"relu\"))\n",
    "model.add(keras.layers.Dense(10, activation=\"softmax\"))\n",
    "keras.backend.clear_session()\n",
    "np.random.seed(42)\n",
    "tf.random.set_seed(42)"
   ]
  },
  {
   "cell_type": "code",
   "execution_count": 53,
   "id": "1ac4f02f",
   "metadata": {},
   "outputs": [
    {
     "data": {
      "text/plain": [
       "[<keras.layers.reshaping.flatten.Flatten at 0x2106cd86bf0>,\n",
       " <keras.layers.core.dense.Dense at 0x2107274f2e0>,\n",
       " <keras.layers.core.dense.Dense at 0x2107274f460>,\n",
       " <keras.layers.core.dense.Dense at 0x21072765210>]"
      ]
     },
     "execution_count": 53,
     "metadata": {},
     "output_type": "execute_result"
    }
   ],
   "source": [
    "model.layers\n"
   ]
  },
  {
   "cell_type": "code",
   "execution_count": 54,
   "id": "ce6067e9",
   "metadata": {},
   "outputs": [
    {
     "name": "stdout",
     "output_type": "stream",
     "text": [
      "Model: \"sequential\"\n",
      "_________________________________________________________________\n",
      " Layer (type)                Output Shape              Param #   \n",
      "=================================================================\n",
      " flatten (Flatten)           (None, 784)               0         \n",
      "                                                                 \n",
      " dense (Dense)               (None, 300)               235500    \n",
      "                                                                 \n",
      " dense_1 (Dense)             (None, 100)               30100     \n",
      "                                                                 \n",
      " dense_2 (Dense)             (None, 10)                1010      \n",
      "                                                                 \n",
      "=================================================================\n",
      "Total params: 266,610\n",
      "Trainable params: 266,610\n",
      "Non-trainable params: 0\n",
      "_________________________________________________________________\n"
     ]
    }
   ],
   "source": [
    "model.summary()\n"
   ]
  },
  {
   "cell_type": "code",
   "execution_count": 55,
   "id": "80d5c1fb",
   "metadata": {},
   "outputs": [
    {
     "data": {
      "image/png": "[encoded data removed]",
      "text/plain": [
       "<IPython.core.display.Image object>"
      ]
     },
     "execution_count": 55,
     "metadata": {},
     "output_type": "execute_result"
    }
   ],
   "source": [
    "keras.utils.plot_model(model, \"mnist_model.png\", show_shapes=True)"
   ]
  },
  {
   "cell_type": "code",
   "execution_count": 56,
   "id": "aeccdd5e",
   "metadata": {},
   "outputs": [],
   "source": [
    "model.compile(optimizer = 'adam', loss = 'categorical_crossentropy', metrics = ['accuracy'])"
   ]
  },
  {
   "cell_type": "code",
   "execution_count": 57,
   "id": "023fe7fe",
   "metadata": {},
   "outputs": [
    {
     "data": {
      "text/plain": [
       "(5000, 10)"
      ]
     },
     "execution_count": 57,
     "metadata": {},
     "output_type": "execute_result"
    }
   ],
   "source": [
    "y_train.shape\n",
    "from tensorflow.keras.utils import to_categorical\n",
    "Y_train=to_categorical(y_train)\n",
    "Y_valid=to_categorical(y_valid)\n",
    "Y_valid.shape"
   ]
  },
  {
   "cell_type": "code",
   "execution_count": 58,
   "id": "eff4f573",
   "metadata": {},
   "outputs": [
    {
     "data": {
      "text/plain": [
       "numpy.ndarray"
      ]
     },
     "execution_count": 58,
     "metadata": {},
     "output_type": "execute_result"
    }
   ],
   "source": [
    "type(x_train)"
   ]
  },
  {
   "cell_type": "code",
   "execution_count": 59,
   "id": "7333cb1a",
   "metadata": {},
   "outputs": [
    {
     "name": "stdout",
     "output_type": "stream",
     "text": [
      "Epoch 1/60\n",
      "500/500 - 2s - loss: 1.0525 - accuracy: 0.6930 - val_loss: 0.5271 - val_accuracy: 0.8466 - 2s/epoch - 3ms/step\n",
      "Epoch 2/60\n",
      "500/500 - 1s - loss: 0.4433 - accuracy: 0.8683 - val_loss: 0.4081 - val_accuracy: 0.8886 - 1s/epoch - 2ms/step\n",
      "Epoch 3/60\n",
      "500/500 - 1s - loss: 0.3667 - accuracy: 0.8922 - val_loss: 0.3517 - val_accuracy: 0.9024 - 1s/epoch - 2ms/step\n",
      "Epoch 4/60\n",
      "500/500 - 1s - loss: 0.3237 - accuracy: 0.9048 - val_loss: 0.3181 - val_accuracy: 0.9120 - 1s/epoch - 2ms/step\n",
      "Epoch 5/60\n",
      "500/500 - 1s - loss: 0.2934 - accuracy: 0.9147 - val_loss: 0.2935 - val_accuracy: 0.9184 - 1s/epoch - 2ms/step\n",
      "Epoch 6/60\n",
      "500/500 - 1s - loss: 0.2690 - accuracy: 0.9209 - val_loss: 0.2775 - val_accuracy: 0.9202 - 1s/epoch - 2ms/step\n",
      "Epoch 7/60\n",
      "500/500 - 1s - loss: 0.2475 - accuracy: 0.9268 - val_loss: 0.2665 - val_accuracy: 0.9224 - 1s/epoch - 2ms/step\n",
      "Epoch 8/60\n",
      "500/500 - 1s - loss: 0.2276 - accuracy: 0.9334 - val_loss: 0.2383 - val_accuracy: 0.9308 - 1s/epoch - 2ms/step\n",
      "Epoch 9/60\n",
      "500/500 - 1s - loss: 0.2100 - accuracy: 0.9382 - val_loss: 0.2182 - val_accuracy: 0.9340 - 1s/epoch - 2ms/step\n",
      "Epoch 10/60\n",
      "500/500 - 1s - loss: 0.1925 - accuracy: 0.9433 - val_loss: 0.2031 - val_accuracy: 0.9410 - 1s/epoch - 2ms/step\n",
      "Epoch 11/60\n",
      "500/500 - 1s - loss: 0.1779 - accuracy: 0.9477 - val_loss: 0.1973 - val_accuracy: 0.9418 - 1s/epoch - 2ms/step\n",
      "Epoch 12/60\n",
      "500/500 - 1s - loss: 0.1643 - accuracy: 0.9516 - val_loss: 0.1873 - val_accuracy: 0.9424 - 1s/epoch - 2ms/step\n",
      "Epoch 13/60\n",
      "500/500 - 1s - loss: 0.1522 - accuracy: 0.9557 - val_loss: 0.1713 - val_accuracy: 0.9468 - 1s/epoch - 2ms/step\n",
      "Epoch 14/60\n",
      "500/500 - 1s - loss: 0.1418 - accuracy: 0.9587 - val_loss: 0.1657 - val_accuracy: 0.9468 - 1s/epoch - 2ms/step\n",
      "Epoch 15/60\n",
      "500/500 - 1s - loss: 0.1311 - accuracy: 0.9619 - val_loss: 0.1607 - val_accuracy: 0.9522 - 1s/epoch - 2ms/step\n",
      "Epoch 16/60\n",
      "500/500 - 1s - loss: 0.1216 - accuracy: 0.9648 - val_loss: 0.1605 - val_accuracy: 0.9500 - 1s/epoch - 2ms/step\n",
      "Epoch 17/60\n",
      "500/500 - 1s - loss: 0.1147 - accuracy: 0.9664 - val_loss: 0.1425 - val_accuracy: 0.9568 - 1s/epoch - 2ms/step\n",
      "Epoch 18/60\n",
      "500/500 - 1s - loss: 0.1070 - accuracy: 0.9684 - val_loss: 0.1337 - val_accuracy: 0.9594 - 1s/epoch - 2ms/step\n",
      "Epoch 19/60\n",
      "500/500 - 1s - loss: 0.0998 - accuracy: 0.9706 - val_loss: 0.1306 - val_accuracy: 0.9590 - 1s/epoch - 2ms/step\n",
      "Epoch 20/60\n",
      "500/500 - 1s - loss: 0.0945 - accuracy: 0.9731 - val_loss: 0.1310 - val_accuracy: 0.9582 - 1s/epoch - 2ms/step\n",
      "Epoch 21/60\n",
      "500/500 - 1s - loss: 0.0881 - accuracy: 0.9742 - val_loss: 0.1253 - val_accuracy: 0.9616 - 1s/epoch - 2ms/step\n",
      "Epoch 22/60\n",
      "500/500 - 1s - loss: 0.0827 - accuracy: 0.9756 - val_loss: 0.1188 - val_accuracy: 0.9656 - 1s/epoch - 2ms/step\n",
      "Epoch 23/60\n",
      "500/500 - 1s - loss: 0.0780 - accuracy: 0.9766 - val_loss: 0.1201 - val_accuracy: 0.9618 - 1s/epoch - 2ms/step\n",
      "Epoch 24/60\n",
      "500/500 - 1s - loss: 0.0729 - accuracy: 0.9785 - val_loss: 0.1139 - val_accuracy: 0.9666 - 1s/epoch - 2ms/step\n",
      "Epoch 25/60\n",
      "500/500 - 1s - loss: 0.0681 - accuracy: 0.9797 - val_loss: 0.1089 - val_accuracy: 0.9700 - 1s/epoch - 2ms/step\n",
      "Epoch 26/60\n",
      "500/500 - 1s - loss: 0.0641 - accuracy: 0.9809 - val_loss: 0.1086 - val_accuracy: 0.9672 - 1s/epoch - 2ms/step\n",
      "Epoch 27/60\n",
      "500/500 - 1s - loss: 0.0607 - accuracy: 0.9824 - val_loss: 0.1098 - val_accuracy: 0.9656 - 1s/epoch - 2ms/step\n",
      "Epoch 28/60\n",
      "500/500 - 1s - loss: 0.0576 - accuracy: 0.9830 - val_loss: 0.1118 - val_accuracy: 0.9680 - 1s/epoch - 2ms/step\n",
      "Epoch 29/60\n",
      "500/500 - 1s - loss: 0.0533 - accuracy: 0.9841 - val_loss: 0.1009 - val_accuracy: 0.9690 - 1s/epoch - 2ms/step\n",
      "Epoch 30/60\n",
      "500/500 - 1s - loss: 0.0503 - accuracy: 0.9847 - val_loss: 0.1019 - val_accuracy: 0.9696 - 1s/epoch - 2ms/step\n",
      "Epoch 31/60\n",
      "500/500 - 1s - loss: 0.0474 - accuracy: 0.9861 - val_loss: 0.1128 - val_accuracy: 0.9672 - 1s/epoch - 2ms/step\n",
      "Epoch 32/60\n",
      "500/500 - 1s - loss: 0.0441 - accuracy: 0.9871 - val_loss: 0.1052 - val_accuracy: 0.9682 - 1s/epoch - 3ms/step\n",
      "Epoch 33/60\n",
      "500/500 - 1s - loss: 0.0418 - accuracy: 0.9880 - val_loss: 0.0978 - val_accuracy: 0.9732 - 1s/epoch - 2ms/step\n",
      "Epoch 34/60\n",
      "500/500 - 1s - loss: 0.0389 - accuracy: 0.9890 - val_loss: 0.0960 - val_accuracy: 0.9730 - 1s/epoch - 2ms/step\n",
      "Epoch 35/60\n",
      "500/500 - 1s - loss: 0.0363 - accuracy: 0.9899 - val_loss: 0.0982 - val_accuracy: 0.9724 - 1s/epoch - 2ms/step\n",
      "Epoch 36/60\n",
      "500/500 - 1s - loss: 0.0343 - accuracy: 0.9899 - val_loss: 0.0960 - val_accuracy: 0.9730 - 1s/epoch - 2ms/step\n",
      "Epoch 37/60\n",
      "500/500 - 1s - loss: 0.0316 - accuracy: 0.9913 - val_loss: 0.1059 - val_accuracy: 0.9696 - 1s/epoch - 2ms/step\n",
      "Epoch 38/60\n",
      "500/500 - 1s - loss: 0.0302 - accuracy: 0.9914 - val_loss: 0.0937 - val_accuracy: 0.9734 - 1s/epoch - 2ms/step\n",
      "Epoch 39/60\n",
      "500/500 - 1s - loss: 0.0276 - accuracy: 0.9923 - val_loss: 0.0984 - val_accuracy: 0.9712 - 1s/epoch - 2ms/step\n",
      "Epoch 40/60\n",
      "500/500 - 1s - loss: 0.0259 - accuracy: 0.9934 - val_loss: 0.0988 - val_accuracy: 0.9722 - 1s/epoch - 2ms/step\n",
      "Epoch 41/60\n",
      "500/500 - 1s - loss: 0.0248 - accuracy: 0.9932 - val_loss: 0.0904 - val_accuracy: 0.9742 - 1s/epoch - 2ms/step\n",
      "Epoch 42/60\n",
      "500/500 - 1s - loss: 0.0232 - accuracy: 0.9938 - val_loss: 0.1023 - val_accuracy: 0.9714 - 1s/epoch - 2ms/step\n",
      "Epoch 43/60\n",
      "500/500 - 1s - loss: 0.0213 - accuracy: 0.9945 - val_loss: 0.0937 - val_accuracy: 0.9726 - 1s/epoch - 2ms/step\n",
      "Epoch 44/60\n",
      "500/500 - 1s - loss: 0.0195 - accuracy: 0.9952 - val_loss: 0.0967 - val_accuracy: 0.9718 - 1s/epoch - 2ms/step\n",
      "Epoch 45/60\n",
      "500/500 - 1s - loss: 0.0181 - accuracy: 0.9957 - val_loss: 0.0999 - val_accuracy: 0.9734 - 1s/epoch - 2ms/step\n",
      "Epoch 46/60\n",
      "500/500 - 1s - loss: 0.0171 - accuracy: 0.9961 - val_loss: 0.1051 - val_accuracy: 0.9714 - 1s/epoch - 2ms/step\n",
      "Epoch 47/60\n",
      "500/500 - 1s - loss: 0.0157 - accuracy: 0.9964 - val_loss: 0.0994 - val_accuracy: 0.9724 - 1s/epoch - 2ms/step\n",
      "Epoch 48/60\n",
      "500/500 - 1s - loss: 0.0148 - accuracy: 0.9966 - val_loss: 0.1014 - val_accuracy: 0.9716 - 1s/epoch - 2ms/step\n",
      "Epoch 49/60\n",
      "500/500 - 1s - loss: 0.0135 - accuracy: 0.9971 - val_loss: 0.1022 - val_accuracy: 0.9728 - 1s/epoch - 2ms/step\n",
      "Epoch 50/60\n",
      "500/500 - 1s - loss: 0.0131 - accuracy: 0.9973 - val_loss: 0.1019 - val_accuracy: 0.9708 - 1s/epoch - 2ms/step\n",
      "Epoch 51/60\n",
      "500/500 - 1s - loss: 0.0113 - accuracy: 0.9978 - val_loss: 0.1127 - val_accuracy: 0.9690 - 1s/epoch - 2ms/step\n",
      "Epoch 52/60\n",
      "500/500 - 1s - loss: 0.0109 - accuracy: 0.9976 - val_loss: 0.0979 - val_accuracy: 0.9738 - 1s/epoch - 2ms/step\n",
      "Epoch 53/60\n",
      "500/500 - 1s - loss: 0.0098 - accuracy: 0.9980 - val_loss: 0.1001 - val_accuracy: 0.9722 - 1s/epoch - 2ms/step\n",
      "Epoch 54/60\n",
      "500/500 - 1s - loss: 0.0094 - accuracy: 0.9979 - val_loss: 0.0983 - val_accuracy: 0.9738 - 1s/epoch - 2ms/step\n",
      "Epoch 55/60\n",
      "500/500 - 1s - loss: 0.0092 - accuracy: 0.9980 - val_loss: 0.1048 - val_accuracy: 0.9740 - 1s/epoch - 2ms/step\n",
      "Epoch 56/60\n",
      "500/500 - 1s - loss: 0.0074 - accuracy: 0.9988 - val_loss: 0.1038 - val_accuracy: 0.9742 - 1s/epoch - 2ms/step\n",
      "Epoch 57/60\n",
      "500/500 - 1s - loss: 0.0066 - accuracy: 0.9989 - val_loss: 0.1123 - val_accuracy: 0.9720 - 1s/epoch - 2ms/step\n",
      "Epoch 58/60\n",
      "500/500 - 1s - loss: 0.0071 - accuracy: 0.9987 - val_loss: 0.1143 - val_accuracy: 0.9732 - 1s/epoch - 2ms/step\n",
      "Epoch 59/60\n",
      "500/500 - 1s - loss: 0.0064 - accuracy: 0.9987 - val_loss: 0.1099 - val_accuracy: 0.9734 - 1s/epoch - 2ms/step\n",
      "Epoch 60/60\n",
      "500/500 - 1s - loss: 0.0073 - accuracy: 0.9983 - val_loss: 0.1066 - val_accuracy: 0.9726 - 1s/epoch - 2ms/step\n"
     ]
    },
    {
     "data": {
      "text/plain": [
       "<keras.callbacks.History at 0x210727961d0>"
      ]
     },
     "execution_count": 59,
     "metadata": {},
     "output_type": "execute_result"
    }
   ],
   "source": [
    "model.fit(x_train, Y_train, batch_size = 100, epochs = 60, verbose = 2, validation_data = (x_valid, Y_valid))"
   ]
  },
  {
   "cell_type": "code",
   "execution_count": 62,
   "id": "c29ad209",
   "metadata": {},
   "outputs": [
    {
     "name": "stdout",
     "output_type": "stream",
     "text": [
      "313/313 [==============================] - 0s 1ms/step - loss: 0.0927 - accuracy: 0.9768\n"
     ]
    }
   ],
   "source": [
    "y_test=to_categorical(y_test)\n",
    "test_loss_digit, test_acc_digit = model.evaluate(x_test, y_test)"
   ]
  },
  {
   "cell_type": "code",
   "execution_count": null,
   "id": "b42050dc",
   "metadata": {},
   "outputs": [],
   "source": []
  }
 ],
 "metadata": {
  "kernelspec": {
   "display_name": "Python 3 (ipykernel)",
   "language": "python",
   "name": "python3"
  },
  "language_info": {
   "codemirror_mode": {
    "name": "ipython",
    "version": 3
   },
   "file_extension": ".py",
   "mimetype": "text/x-python",
   "name": "python",
   "nbconvert_exporter": "python",
   "pygments_lexer": "ipython3",
   "version": "3.10.10"
  }
 },
 "nbformat": 4,
 "nbformat_minor": 5
}
