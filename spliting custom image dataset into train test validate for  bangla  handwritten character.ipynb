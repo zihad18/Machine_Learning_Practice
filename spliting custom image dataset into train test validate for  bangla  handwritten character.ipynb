{
 "cells": [
  {
   "cell_type": "code",
   "execution_count": 45,
   "id": "9788f822",
   "metadata": {},
   "outputs": [],
   "source": [
    "import os \n",
    "import shutil"
   ]
  },
  {
   "cell_type": "code",
   "execution_count": 46,
   "id": "c8b19b71",
   "metadata": {},
   "outputs": [],
   "source": [
    "#We collected this dataset from https://data.mendeley.com/datasets/hf2tt9kxkn \n",
    "\n",
    "original_folder = r\"E:\\basic_characters\\original\"\n",
    "train_folder = r\"E:\\basic_characters\\train\"\n",
    "test_folder = r\"E:\\basic_characters\\test\"\n",
    "validate_folder = r\"E:\\basic_characters\\validate\""
   ]
  },
  {
   "cell_type": "code",
   "execution_count": 54,
   "id": "5d938dd4",
   "metadata": {},
   "outputs": [],
   "source": [
    "os.mkdir(train_folder)\n",
    "os.mkdir(test_folder)\n",
    "os.mkdir(validate_folder)"
   ]
  },
  {
   "cell_type": "code",
   "execution_count": 55,
   "id": "1fc2d1ec",
   "metadata": {},
   "outputs": [],
   "source": [
    "for i in range(1,51):\n",
    "    path=str(i)\n",
    "    Train_path= os.path.join(train_folder, path)\n",
    "    Test_path= os.path.join(test_folder, path)\n",
    "    Validate_path= os.path.join(validate_folder, path)\n",
    "    os.mkdir(Train_path)\n",
    "    os.mkdir(Test_path)\n",
    "    os.mkdir(Validate_path)"
   ]
  },
  {
   "cell_type": "code",
   "execution_count": 49,
   "id": "7db8a020",
   "metadata": {},
   "outputs": [
    {
     "name": "stdout",
     "output_type": "stream",
     "text": [
      "File count: 1653\n",
      "File count: 1594\n",
      "File count: 1644\n",
      "File count: 1586\n",
      "File count: 1676\n",
      "File count: 1549\n",
      "File count: 1549\n",
      "File count: 1684\n",
      "File count: 1584\n",
      "File count: 1554\n",
      "File count: 1535\n",
      "File count: 1554\n",
      "File count: 1674\n",
      "File count: 1633\n",
      "File count: 1653\n",
      "File count: 1632\n",
      "File count: 1569\n",
      "File count: 1534\n",
      "File count: 1640\n",
      "File count: 1599\n",
      "File count: 1589\n",
      "File count: 1612\n",
      "File count: 1610\n",
      "File count: 1641\n",
      "File count: 1581\n",
      "File count: 1660\n",
      "File count: 1639\n",
      "File count: 1636\n",
      "File count: 1552\n",
      "File count: 1641\n",
      "File count: 1571\n",
      "File count: 1536\n",
      "File count: 1651\n",
      "File count: 1534\n",
      "File count: 1630\n",
      "File count: 1531\n",
      "File count: 1537\n",
      "File count: 1680\n",
      "File count: 1570\n",
      "File count: 1561\n",
      "File count: 1601\n",
      "File count: 1644\n",
      "File count: 1654\n",
      "File count: 1578\n",
      "File count: 1641\n",
      "File count: 1644\n",
      "File count: 1636\n",
      "File count: 1634\n",
      "File count: 1560\n",
      "File count: 1753\n"
     ]
    }
   ],
   "source": [
    "import os\n",
    "\n",
    "File_length=[]\n",
    "# folder path\n",
    "for i in range(1,51):\n",
    "    dir_path = r\"E:\\basic_characters\\original\"\n",
    "    path= str(i)\n",
    "    Dir_path= os.path.join(dir_path, path)\n",
    "    count = 0\n",
    "    # Iterate directory\n",
    "    for path in os.listdir(Dir_path):\n",
    "        # check if current path is a file\n",
    "        if os.path.isfile(os.path.join(Dir_path, path)):\n",
    "            count += 1\n",
    "    print('File count:', count)\n",
    "    File_length.append(count)"
   ]
  },
  {
   "cell_type": "code",
   "execution_count": 50,
   "id": "a2375de4",
   "metadata": {},
   "outputs": [
    {
     "data": {
      "text/plain": [
       "[1653,\n",
       " 1594,\n",
       " 1644,\n",
       " 1586,\n",
       " 1676,\n",
       " 1549,\n",
       " 1549,\n",
       " 1684,\n",
       " 1584,\n",
       " 1554,\n",
       " 1535,\n",
       " 1554,\n",
       " 1674,\n",
       " 1633,\n",
       " 1653,\n",
       " 1632,\n",
       " 1569,\n",
       " 1534,\n",
       " 1640,\n",
       " 1599,\n",
       " 1589,\n",
       " 1612,\n",
       " 1610,\n",
       " 1641,\n",
       " 1581,\n",
       " 1660,\n",
       " 1639,\n",
       " 1636,\n",
       " 1552,\n",
       " 1641,\n",
       " 1571,\n",
       " 1536,\n",
       " 1651,\n",
       " 1534,\n",
       " 1630,\n",
       " 1531,\n",
       " 1537,\n",
       " 1680,\n",
       " 1570,\n",
       " 1561,\n",
       " 1601,\n",
       " 1644,\n",
       " 1654,\n",
       " 1578,\n",
       " 1641,\n",
       " 1644,\n",
       " 1636,\n",
       " 1634,\n",
       " 1560,\n",
       " 1753]"
      ]
     },
     "execution_count": 50,
     "metadata": {},
     "output_type": "execute_result"
    }
   ],
   "source": [
    "File_length"
   ]
  },
  {
   "cell_type": "code",
   "execution_count": 51,
   "id": "731d6247",
   "metadata": {},
   "outputs": [],
   "source": [
    "import math"
   ]
  },
  {
   "cell_type": "code",
   "execution_count": 52,
   "id": "bcb743c7",
   "metadata": {},
   "outputs": [
    {
     "data": {
      "text/plain": [
       "[1322,\n",
       " 1275,\n",
       " 1315,\n",
       " 1268,\n",
       " 1340,\n",
       " 1239,\n",
       " 1239,\n",
       " 1347,\n",
       " 1267,\n",
       " 1243,\n",
       " 1228,\n",
       " 1243,\n",
       " 1339,\n",
       " 1306,\n",
       " 1322,\n",
       " 1305,\n",
       " 1255,\n",
       " 1227,\n",
       " 1312,\n",
       " 1279,\n",
       " 1271,\n",
       " 1289,\n",
       " 1288,\n",
       " 1312,\n",
       " 1264,\n",
       " 1328,\n",
       " 1311,\n",
       " 1308,\n",
       " 1241,\n",
       " 1312,\n",
       " 1256,\n",
       " 1228,\n",
       " 1320,\n",
       " 1227,\n",
       " 1304,\n",
       " 1224,\n",
       " 1229,\n",
       " 1344,\n",
       " 1256,\n",
       " 1248,\n",
       " 1280,\n",
       " 1315,\n",
       " 1323,\n",
       " 1262,\n",
       " 1312,\n",
       " 1315,\n",
       " 1308,\n",
       " 1307,\n",
       " 1248,\n",
       " 1402]"
      ]
     },
     "execution_count": 52,
     "metadata": {},
     "output_type": "execute_result"
    }
   ],
   "source": [
    "train_pic=[]\n",
    "validation_pic=[]\n",
    "test_pic=[]\n",
    "for i in range(1,51):\n",
    "    l=math.floor(File_length[i-1]*0.8)   # for training 80%\n",
    "    train_pic.append(l)\n",
    "    validation_pic.append(math.floor(File_length[i-1]*0.9)) #for validating 10%\n",
    "    test_pic.append(File_length[i-1]) ##for test 10%\n",
    "train_pic\n",
    "#print(validation_pic)\n",
    "#print(test_pic)"
   ]
  },
  {
   "cell_type": "markdown",
   "id": "db93d893",
   "metadata": {},
   "source": [
    "### fixing and renaming"
   ]
  },
  {
   "cell_type": "code",
   "execution_count": null,
   "id": "ca1f0026",
   "metadata": {},
   "outputs": [],
   "source": [
    "import os\n",
    "os.getcwd()\n",
    "collection = r\"E:\\basic_characters\\original\\3\"\n",
    "for path in os.listdir(collection):\n",
    "        # check if current path is a file\n",
    "        \n",
    "        if os.path.isfile(os.path.join(collection, path)):\n",
    "            prev=os.path.join(collection, path)\n",
    "            path2=\"3\"+path[1:]\n",
    "            #print(path2)\n",
    "            curr=os.path.join(collection, path2)\n",
    "            print(curr)\n",
    "            os.rename(prev, curr)\n",
    "#\"E:\\basic_characters\\original\\3\\1_3.jpg\"\n",
    "#for i, filename in enumerate(os.listdir(collection)):\n",
    "   # os.rename(\"E:\\basic_characters\\original\\3\" + filename, \"E:\\basic_characters\\original\\3\\3_\" + str(i) + \".jpg\")"
   ]
  },
  {
   "cell_type": "code",
   "execution_count": 56,
   "id": "60903fdc",
   "metadata": {},
   "outputs": [],
   "source": [
    "for folder_name in range(1,51):\n",
    "    dir_path = r\"E:\\basic_characters\\original\"\n",
    "    path= str(folder_name)\n",
    "    Dir_path= os.path.join(dir_path, path)\n",
    "    Train_path= os.path.join(train_folder, path)\n",
    "    Test_path= os.path.join(test_folder, path)\n",
    "    Validate_path= os.path.join(validate_folder, path)\n",
    "    filenames=[f\"{folder_name}_{i}.jpg\" for i in range(1,train_pic[folder_name-1]+1)]\n",
    "    for filename in filenames:\n",
    "        src_path = os.path.join(Dir_path,filename)\n",
    "        dst_path = os.path.join(Train_path,filename)\n",
    "        shutil.copy(src_path,dst_path)\n",
    "    filenames=[f\"{folder_name}_{i}.jpg\" for i in range(train_pic[folder_name-1]+1,validation_pic[folder_name-1]+1)]\n",
    "    for filename in filenames:\n",
    "        src_path = os.path.join(Dir_path,filename)\n",
    "        dst_path = os.path.join(Validate_path,filename)\n",
    "        shutil.copy(src_path,dst_path)\n",
    "    filenames=[f\"{folder_name}_{i}.jpg\" for i in range(validation_pic[folder_name-1]+1,test_pic[folder_name-1]+1)]\n",
    "    for filename in filenames:\n",
    "        src_path = os.path.join(Dir_path,filename)\n",
    "        dst_path = os.path.join(Test_path,filename)\n",
    "        shutil.copy(src_path,dst_path)\n",
    "    "
   ]
  },
  {
   "cell_type": "code",
   "execution_count": null,
   "id": "bdf41d63",
   "metadata": {},
   "outputs": [],
   "source": []
  }
 ],
 "metadata": {
  "kernelspec": {
   "display_name": "Python 3 (ipykernel)",
   "language": "python",
   "name": "python3"
  },
  "language_info": {
   "codemirror_mode": {
    "name": "ipython",
    "version": 3
   },
   "file_extension": ".py",
   "mimetype": "text/x-python",
   "name": "python",
   "nbconvert_exporter": "python",
   "pygments_lexer": "ipython3",
   "version": "3.10.10"
  }
 },
 "nbformat": 4,
 "nbformat_minor": 5
}
